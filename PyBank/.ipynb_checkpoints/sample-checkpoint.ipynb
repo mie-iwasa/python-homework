{
 "cells": [
  {
   "cell_type": "code",
   "execution_count": 19,
   "metadata": {},
   "outputs": [],
   "source": [
    "# Import the necessary libraries for reading csv files\n",
    "import os\n",
    "import csv"
   ]
  },
  {
   "cell_type": "code",
   "execution_count": 20,
   "metadata": {},
   "outputs": [],
   "source": [
    "# Set the path for the csv file\n",
    "from pathlib import Path\n",
    "csvpath = Path(\"Resources/budget_data.csv\")"
   ]
  },
  {
   "cell_type": "code",
   "execution_count": 21,
   "metadata": {},
   "outputs": [
    {
     "name": "stdout",
     "output_type": "stream",
     "text": [
      "/Users/mieiwasa/Desktop/Bootcamp-Homework/python-homework/PyBank\n"
     ]
    }
   ],
   "source": [
    "# To Check the path \n",
    "!pwd"
   ]
  },
  {
   "cell_type": "code",
   "execution_count": 22,
   "metadata": {},
   "outputs": [
    {
     "data": {
      "text/plain": [
       "PosixPath('Resources/budget_data.csv')"
      ]
     },
     "execution_count": 22,
     "metadata": {},
     "output_type": "execute_result"
    }
   ],
   "source": [
    "csvpath"
   ]
  },
  {
   "cell_type": "code",
   "execution_count": 158,
   "metadata": {},
   "outputs": [],
   "source": [
    "# Create empty variables and lists to iterate through specific rows\n",
    "total_months = 0\n",
    "total_pnl = 0\n",
    "\n",
    "months = []\n",
    "pnl_changes = []\n",
    "\n",
    "monthly_change = 0\n",
    "total_change = 0\n",
    "previous_pnl = 0\n",
    "current_pnl = 0\n",
    "pnl_change = 0\n",
    "average_change = 0\n",
    "greatest_increase = 0\n",
    "greatest_decrease = 0\n",
    "\n",
    "# Open and read csv\n",
    "with open(csvpath) as finance_data:\n",
    "    reader = csv.reader(finance_data)\n",
    "    \n",
    "    # Read the header titles first\n",
    "    header = next(reader)\n",
    "    \n",
    "    first_row = next(reader)\n",
    "    \n",
    "    total_months = total_months + 1                        # To count the number of months in the dataset\n",
    "    total_pnl = total_pnl + int(first_row[1])              # Total net pnl\n",
    "    previous_pnl = int(row[1])\n",
    "    monthy_change = int(row[1]) - previous_pnl             # Month-over-month pnl change\n",
    "    total_change = total_change + monthly_change           # Cumulative pnl change\n",
    "    average_change = total_change / total_months\n",
    "    \n",
    "    \n",
    "    # Read through each row of data after the header using a loop to iterate through data for calculations\n",
    "    for row in reader:\n",
    "        # Count the number of months in the dataset\n",
    "        total_months = total_months + 1            \n",
    "        \n",
    "        # Total net pnl over the entire period\n",
    "        current_pnl = int(row[1])\n",
    "        total_pnl += current_pnl\n",
    "        \n",
    "        if (total_months == 1):\n",
    "            # Make the value of previous pnl to be equal to current pnl\n",
    "            previous_pnl = current_pnl\n",
    "            continue\n",
    "        \n",
    "        else:\n",
    "            # Compute change in profit loss \n",
    "            pnl_change = current_pnl - previous_pnl\n",
    "\n",
    "            # Append each month to the months[]\n",
    "            months.append(row[0])\n",
    "\n",
    "            # Append each profit_loss_change to the pnl_changes[]\n",
    "            pnl_changes.append(pnl_change)\n",
    "\n",
    "            # Make the current_pnl to be previous_pnl for the next loop\n",
    "            previous_pnl = current_pnl\n",
    "\n",
    "        # Sum and average of the changes in \"Profit/Losses\" over the entire period\n",
    "        sum_pnl += pnl_change\n",
    "        average_pnl = sum_pnl/(total_months - 1)\n",
    "\n",
    "    # Greatest increase and decrease in pnl over the entire period\n",
    "    greatest_increase = max(pnl_changes)\n",
    "    greatest_decrease = min(pnl_changes)\n",
    "\n",
    "    # Locate the index value of greatest increase and decrease in pnl over the entire period\n",
    "    highest_month_index = pnl_changes.index(greatest_increase)\n",
    "    lowest_month_index = pnl_changes.index(greatest_decrease)\n",
    "\n",
    "    # Assign best and worst month\n",
    "    best_month = months[highest_month_index]\n",
    "    worst_month = months[lowest_month_index]\n",
    "\n",
    "            "
   ]
  },
  {
   "cell_type": "code",
   "execution_count": 159,
   "metadata": {},
   "outputs": [
    {
     "name": "stdout",
     "output_type": "stream",
     "text": [
      "-----------\n",
      "***********\n",
      "Total months: 86\n",
      "Total pnl: $38382578\n",
      "Average change: $0.0\n",
      "Greatest increase in Profits:  Feb-2012 ($1926159)\n",
      "Greatest decrease in Losses:  Sep-2013 ($-2196167)\n"
     ]
    }
   ],
   "source": [
    "print(\"-----------\")\n",
    "print(\"***********\")\n",
    "print(f\"Total months: {total_months}\")\n",
    "print(f\"Total pnl: ${total_pnl}\")\n",
    "print(f\"Average change: ${average_pnl}\")\n",
    "print(f\"Greatest increase in Profits:  {best_month} (${greatest_increase})\")\n",
    "print(f\"Greatest decrease in Losses:  {worst_month} (${greatest_decrease})\")"
   ]
  },
  {
   "cell_type": "code",
   "execution_count": 164,
   "metadata": {},
   "outputs": [],
   "source": [
    "with open(\"output_text.txt\", \"w\") as txt_file:\n",
    "    txt_file.write(f\"Financial Analysis\\n\")\n",
    "    txt_file.write(\"----------------------------\\n\")\n",
    "    txt_file.write(f\"Total months: ${total_months}\\n\")\n",
    "    txt_file.write(f\"Total pnl: ${total_pnl}\\n\")\n",
    "    txt_file.write(f\"Average change: ${average_pnl}\\n\")\n",
    "    txt_file.write(f\"Greatest increase in profits: {best_month} ${greatest_increase}\\n\")\n",
    "    txt_file.write(f\"Greatest decrease in profits: {worst_month} ${greatest_decrease}\\n\")"
   ]
  },
  {
   "cell_type": "code",
   "execution_count": null,
   "metadata": {},
   "outputs": [],
   "source": []
  },
  {
   "cell_type": "code",
   "execution_count": null,
   "metadata": {},
   "outputs": [],
   "source": []
  },
  {
   "cell_type": "code",
   "execution_count": null,
   "metadata": {},
   "outputs": [],
   "source": [
    "# Import the necessary libraries for reading csv files\n",
    "import os\n",
    "import csv"
   ]
  },
  {
   "cell_type": "code",
   "execution_count": null,
   "metadata": {},
   "outputs": [],
   "source": [
    "# Set the path for the csv file\n",
    "from pathlib import Path\n",
    "csvpath = Path(\"Resources/budget_data.csv\")"
   ]
  },
  {
   "cell_type": "code",
   "execution_count": null,
   "metadata": {},
   "outputs": [],
   "source": [
    "# Create empty variables and lists to iterate through specific rows\n",
    "total_months = 0\n",
    "total_pnl = 0\n",
    "monthly_change = []\n",
    "total_change = []\n",
    "previous_pnl = 0\n",
    "average_change = 0\n",
    "greatest_increase = 0\n",
    "greatest_decrease = 0\n",
    "with open(csvpath) as finance_data:\n",
    "    reader = csv.reader(finance_data)\n",
    "    \n",
    "    header = next(reader)\n",
    "    \n",
    "    first_row = next(reader)\n",
    "    \n",
    "    total_months = total_months + 1                        # To count the number of months in the dataset\n",
    "    total_pnl = total_pnl + int(first_row[1])              # Total net pnl\n",
    "    previous_pnl = int(row[1])\n",
    "    monthy_change = int(row[1]) - previous_pnl             # Month-over-month pnl change\n",
    "    total_change = total_change + monthly_change           # Cumulative pnl change\n",
    "    \n",
    "    \n",
    "    \n",
    "    # Use a loop to iterate through data for calculations\n",
    "    for row in reader:\n",
    "        \n",
    "        total_months = total_months + 1\n",
    "        total_pnl = total_pnl + int(row[1])\n",
    "        \n",
    "\n",
    "if int(row[1]) - average_change > greatest_increase:\n",
    "            greatest_increase = int(row[1]) - average_change\n",
    "            gi_month = row[0]\n",
    "        \n",
    "        elif int(row[1]) - int(row[1]) - average_change < greatest_decrease:\n",
    "            greatest_decrease = int(row[1]) - average_change\n",
    "            gd_month = row[0]\n",
    "            monthly_change += int(row[1])\n",
    "            "
   ]
  },
  {
   "cell_type": "code",
   "execution_count": null,
   "metadata": {},
   "outputs": [],
   "source": [
    "print(\"-----------\")\n",
    "print(\"***********\")\n",
    "print(f\"Total months: {total_months}\")\n",
    "print(f\"Total pnl: {total_}\")\n",
    "print(f\"Average change: {average_pnl}\")\n",
    "print(f\"Greatest increase in profits: {greatest_increase}\")\n",
    "print(f\"Greatest decrease in profits: {greatest_decrease}\")"
   ]
  },
  {
   "cell_type": "code",
   "execution_count": null,
   "metadata": {},
   "outputs": [],
   "source": [
    "with open(\"output_text.txt\", \"w\") as txt_file:\n",
    "    txt_file.write(f\"Finance ------\\n\")\n",
    "    txt_file.write(f\"Total months: ${total_months}\\n\")\n",
    "    txt_file.write(f\"Total pnl: ${total_pnl}\\n\")\n",
    "    txt_file.write(f\"Average change: ${average_change}\\n\")\n",
    "    txt_file.write(f\"Greatest increase in profits: '+gi_month+' ${greatest_increase}\\n\")\n",
    "    txt_file.write(f\"Greatest decrease in profits: '+gd_month+' ${greatest_decrease}\\n\")"
   ]
  }
 ],
 "metadata": {
  "kernelspec": {
   "display_name": "Python 3",
   "language": "python",
   "name": "python3"
  },
  "language_info": {
   "codemirror_mode": {
    "name": "ipython",
    "version": 3
   },
   "file_extension": ".py",
   "mimetype": "text/x-python",
   "name": "python",
   "nbconvert_exporter": "python",
   "pygments_lexer": "ipython3",
   "version": "3.7.9"
  }
 },
 "nbformat": 4,
 "nbformat_minor": 4
}
