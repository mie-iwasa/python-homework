{
 "cells": [
  {
   "cell_type": "code",
   "execution_count": 1,
   "metadata": {},
   "outputs": [],
   "source": [
    "# Import the necessary libraries for reading csv files\n",
    "import os\n",
    "import csv"
   ]
  },
  {
   "cell_type": "code",
   "execution_count": 2,
   "metadata": {},
   "outputs": [],
   "source": [
    "# Set the path for the csv file\n",
    "from pathlib import Path\n",
    "csvpath = Path(\"Resources/budget_data.csv\")"
   ]
  },
  {
   "cell_type": "code",
   "execution_count": 9,
   "metadata": {},
   "outputs": [],
   "source": [
    "# Create empty variables and lists to iterate through specific rows\n",
    "total_months = 0\n",
    "total_pnl = 0\n",
    "monthly_change = []\n",
    "total_change = []\n",
    "\n",
    "greatest_increase = [\"\",0]\n",
    "greatest_decrease = [\"\",999999999999]\n",
    "\n",
    "with open(csvpath) as finance_data:\n",
    "    reader = csv.reader(finance_data)\n",
    "    \n",
    "    header = next(reader)\n",
    "    \n",
    "    first_row = next(reader)\n",
    "    \n",
    "    total_months = total_months + 1                        # To count the number of months in the dataset\n",
    "    total_pnl = total_pnl + int(first_row[1])              # Total net pnl\n",
    "    \n",
    "    previous_pnl = int(first_row[1])\n",
    "    \n",
    "    # Use a loop to iterate through data for calculations\n",
    "    for row in reader:\n",
    "        \n",
    "        total_months = total_months + 1\n",
    "        total_pnl = total_pnl + int(row[1])\n",
    "        \n",
    "        net_change = int(row[1]) -  previous_pnl\n",
    "        monthly_change = monthly_change + [row[0]]\n",
    "\n",
    "        previous_pnl = int(row[1])\n",
    "        total_change = total_change + [net_change]\n",
    "        if net_change > greatest_increase[1]:\n",
    "            greatest_increase[0] = row[0]\n",
    "            greatest_increase[1] = net_change\n",
    "            \n",
    "        if net_change < greatest_decrease[1]:\n",
    "            greatest_decrease[0] = row[0]\n",
    "            greatest_decrease[1] = net_change\n",
    "            \n",
    "            \n",
    "net_monthly_avg = round(sum(total_change) / len(total_change),2)\n"
   ]
  },
  {
   "cell_type": "code",
   "execution_count": 21,
   "metadata": {},
   "outputs": [
    {
     "name": "stdout",
     "output_type": "stream",
     "text": [
      "-----------\n",
      "***********\n",
      "Total months: $86\n",
      "Total pnl: $38382578\n",
      "Average change: $-2315.12\n",
      "Greatest increase in profits: Feb-2012 $1926159\n",
      "Greatest decrease in profits: Sep-2013 $-2196167\n"
     ]
    }
   ],
   "source": [
    "print(\"-----------\")\n",
    "print(\"***********\")\n",
    "print(f\"Total months: ${total_months}\")\n",
    "print(f\"Total pnl: ${total_pnl}\")\n",
    "print(f\"Average change: ${net_monthly_avg}\")\n",
    "print(f\"Greatest increase in profits: {greatest_increase[0]} ${greatest_increase[1]}\")\n",
    "print(f\"Greatest decrease in profits: {greatest_decrease[0]} ${greatest_decrease[1]}\")"
   ]
  },
  {
   "cell_type": "code",
   "execution_count": 29,
   "metadata": {},
   "outputs": [],
   "source": [
    "with open(\"output.txt\", \"w\") as txt_file:\n",
    "    txt_file.write(f\"Financial Analysis\\n\")\n",
    "    txt_file.write(\"----------------------------\\n\")\n",
    "    txt_file.write(f\"Total months: ${total_months}\\n\")\n",
    "    txt_file.write(f\"Total pnl: ${total_pnl}\\n\")\n",
    "    txt_file.write(f\"Average change: ${net_monthly_avg}\\n\")\n",
    "    txt_file.write(f\"Greatest increase in profits: {greatest_increase[0]} ${greatest_increase[1]}\\n\")\n",
    "    txt_file.write(f\"Greatest decrease in profits: {greatest_decrease[0]} ${greatest_decrease[1]}\\n\")"
   ]
  },
  {
   "cell_type": "code",
   "execution_count": 30,
   "metadata": {},
   "outputs": [
    {
     "name": "stdout",
     "output_type": "stream",
     "text": [
      "/Users/mieiwasa/Desktop/Bootcamp-Homework/python-homework/PyBank\n"
     ]
    }
   ],
   "source": [
    "!pwd"
   ]
  },
  {
   "cell_type": "code",
   "execution_count": null,
   "metadata": {},
   "outputs": [],
   "source": []
  }
 ],
 "metadata": {
  "kernelspec": {
   "display_name": "Python 3",
   "language": "python",
   "name": "python3"
  },
  "language_info": {
   "codemirror_mode": {
    "name": "ipython",
    "version": 3
   },
   "file_extension": ".py",
   "mimetype": "text/x-python",
   "name": "python",
   "nbconvert_exporter": "python",
   "pygments_lexer": "ipython3",
   "version": "3.7.9"
  }
 },
 "nbformat": 4,
 "nbformat_minor": 4
}
